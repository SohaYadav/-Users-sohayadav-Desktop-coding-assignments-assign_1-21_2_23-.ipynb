{
  "nbformat": 4,
  "nbformat_minor": 0,
  "metadata": {
    "colab": {
      "provenance": []
    },
    "kernelspec": {
      "name": "python3",
      "display_name": "Python 3"
    },
    "language_info": {
      "name": "python"
    }
  },
  "cells": [
    {
      "cell_type": "code",
      "execution_count": 1,
      "metadata": {
        "id": "bZB6Wd9dU3O_"
      },
      "outputs": [],
      "source": [
        "s=\"abcdefghijk\""
      ]
    },
    {
      "cell_type": "code",
      "source": [
        "s"
      ],
      "metadata": {
        "colab": {
          "base_uri": "https://localhost:8080/",
          "height": 37
        },
        "id": "ZtaQ7rMaU8tv",
        "outputId": "6c354bdd-3775-4a4c-e880-786279dcbb7c"
      },
      "execution_count": 2,
      "outputs": [
        {
          "output_type": "execute_result",
          "data": {
            "text/plain": [
              "'abcdefghijk'"
            ],
            "application/vnd.google.colaboratory.intrinsic+json": {
              "type": "string"
            }
          },
          "metadata": {},
          "execution_count": 2
        }
      ]
    },
    {
      "cell_type": "code",
      "source": [
        "type(s)"
      ],
      "metadata": {
        "colab": {
          "base_uri": "https://localhost:8080/"
        },
        "id": "lp-XNQCpU8rM",
        "outputId": "46ca0013-03ba-458e-80a8-410df8e96e96"
      },
      "execution_count": 3,
      "outputs": [
        {
          "output_type": "execute_result",
          "data": {
            "text/plain": [
              "str"
            ]
          },
          "metadata": {},
          "execution_count": 3
        }
      ]
    },
    {
      "cell_type": "code",
      "source": [
        "s[200:]"
      ],
      "metadata": {
        "colab": {
          "base_uri": "https://localhost:8080/",
          "height": 37
        },
        "id": "A6Zi0x9RU8oC",
        "outputId": "07ef125e-5001-470e-8514-2b61546beddc"
      },
      "execution_count": 4,
      "outputs": [
        {
          "output_type": "execute_result",
          "data": {
            "text/plain": [
              "''"
            ],
            "application/vnd.google.colaboratory.intrinsic+json": {
              "type": "string"
            }
          },
          "metadata": {},
          "execution_count": 4
        }
      ]
    },
    {
      "cell_type": "code",
      "source": [
        "##questions"
      ],
      "metadata": {
        "id": "Zz6qEt0DU8kY"
      },
      "execution_count": null,
      "outputs": []
    },
    {
      "cell_type": "code",
      "source": [
        "#7 to the power 4\n",
        "7**4"
      ],
      "metadata": {
        "colab": {
          "base_uri": "https://localhost:8080/"
        },
        "id": "IjTuUgKjU8hC",
        "outputId": "4b3b171c-5d1b-4706-fda0-e696a62d0d1a"
      },
      "execution_count": 5,
      "outputs": [
        {
          "output_type": "execute_result",
          "data": {
            "text/plain": [
              "2401"
            ]
          },
          "metadata": {},
          "execution_count": 5
        }
      ]
    },
    {
      "cell_type": "code",
      "source": [
        "\n",
        "#Q1\n",
        "s=\"hello all we are learning about Python\"\n",
        "s.split()"
      ],
      "metadata": {
        "colab": {
          "base_uri": "https://localhost:8080/"
        },
        "id": "aRpyHwMWU8eF",
        "outputId": "f4e137d5-f76d-48c0-dd33-d26ab1f400c9"
      },
      "execution_count": 6,
      "outputs": [
        {
          "output_type": "execute_result",
          "data": {
            "text/plain": [
              "['hello', 'all', 'we', 'are', 'learning', 'about', 'Python']"
            ]
          },
          "metadata": {},
          "execution_count": 6
        }
      ]
    },
    {
      "cell_type": "code",
      "source": [
        "#Q2\n",
        "planet = \"Earth\"\n",
        "diameter = 12742\n",
        "print(\"The diameter of {} is {} kms\" .format(planet,diameter))"
      ],
      "metadata": {
        "colab": {
          "base_uri": "https://localhost:8080/"
        },
        "id": "nb6INi29U8an",
        "outputId": "2e8d6462-3177-4edd-de54-2128a1fd6ee7"
      },
      "execution_count": 12,
      "outputs": [
        {
          "output_type": "stream",
          "name": "stdout",
          "text": [
            "The diameter of Earth is 12742 kms\n"
          ]
        }
      ]
    },
    {
      "cell_type": "code",
      "source": [
        "#Q3 \n",
        "lst = [1,2,[3,4],[5,[100,200,['hello']],23,11],1,7]"
      ],
      "metadata": {
        "id": "NJOH6ZxJU8XT"
      },
      "execution_count": 14,
      "outputs": []
    },
    {
      "cell_type": "code",
      "source": [
        "lst"
      ],
      "metadata": {
        "colab": {
          "base_uri": "https://localhost:8080/"
        },
        "id": "oRTFA-uBU8T7",
        "outputId": "5228da9b-feda-420a-cb94-25f69d20a5ea"
      },
      "execution_count": 15,
      "outputs": [
        {
          "output_type": "execute_result",
          "data": {
            "text/plain": [
              "[1, 2, [3, 4], [5, [100, 200, ['hello']], 23, 11], 1, 7]"
            ]
          },
          "metadata": {},
          "execution_count": 15
        }
      ]
    },
    {
      "cell_type": "code",
      "source": [
        "lst[3][1][2][0]     ##[0] lihaycha so that string yeil means 'hello' fakt, not ['hello']"
      ],
      "metadata": {
        "colab": {
          "base_uri": "https://localhost:8080/",
          "height": 37
        },
        "id": "RGL0c5OaU8Qj",
        "outputId": "e77789c5-81ca-45ed-9224-52af5564d261"
      },
      "execution_count": 19,
      "outputs": [
        {
          "output_type": "execute_result",
          "data": {
            "text/plain": [
              "'hello'"
            ],
            "application/vnd.google.colaboratory.intrinsic+json": {
              "type": "string"
            }
          },
          "metadata": {},
          "execution_count": 19
        }
      ]
    },
    {
      "cell_type": "code",
      "source": [
        "#Q4 Grab Hello\n",
        "d = {'k1':[1,2,3,{'tricky':['oh','man','inception',\n",
        "                            {'target':[1,2,3,'hello']}]}]}"
      ],
      "metadata": {
        "id": "pn1k-YOyU8M_"
      },
      "execution_count": 21,
      "outputs": []
    },
    {
      "cell_type": "code",
      "source": [
        "\n",
        "x=d['k1'][3]['tricky'][3]['target'][3]\n",
        "print(x)"
      ],
      "metadata": {
        "colab": {
          "base_uri": "https://localhost:8080/"
        },
        "id": "C-fFvkZ9U8Jk",
        "outputId": "c6d906d8-9433-46e8-cab8-85c2721ea234"
      },
      "execution_count": 27,
      "outputs": [
        {
          "output_type": "stream",
          "name": "stdout",
          "text": [
            "hello\n"
          ]
        }
      ]
    },
    {
      "cell_type": "code",
      "source": [
        "#Q5\n",
        "#difference between list and tuple\n"
      ],
      "metadata": {
        "id": "5_4T7rQcU8GS"
      },
      "execution_count": null,
      "outputs": []
    },
    {
      "cell_type": "code",
      "source": [
        "#Q6: create the function that grabs the email website domain from a string in the from:\n",
        "#userdomain@gmail.com\n",
        "\n",
        "def my_fun(e):\n",
        "    print (e.split('@'))\n"
      ],
      "metadata": {
        "id": "I84IQaRTU8C2"
      },
      "execution_count": 28,
      "outputs": []
    },
    {
      "cell_type": "code",
      "source": [
        "my_fun('soha25.smita20@gmail.com')"
      ],
      "metadata": {
        "colab": {
          "base_uri": "https://localhost:8080/"
        },
        "id": "cB53ALWgU7_M",
        "outputId": "dba4c542-8262-4cdf-af71-fee5f66e6150"
      },
      "execution_count": 29,
      "outputs": [
        {
          "output_type": "stream",
          "name": "stdout",
          "text": [
            "['soha25.smita20', 'gmail.com']\n"
          ]
        }
      ]
    },
    {
      "cell_type": "code",
      "source": [
        "def find_domain(e):\n",
        "  return e.split('@')[1]"
      ],
      "metadata": {
        "id": "ONJdeFfXU78H"
      },
      "execution_count": 33,
      "outputs": []
    },
    {
      "cell_type": "code",
      "source": [
        "find_domain('abc@gmail.com')"
      ],
      "metadata": {
        "colab": {
          "base_uri": "https://localhost:8080/",
          "height": 37
        },
        "id": "VjTI43k3U74j",
        "outputId": "9cd42011-6369-4490-88a6-f80627a3d579"
      },
      "execution_count": 34,
      "outputs": [
        {
          "output_type": "execute_result",
          "data": {
            "text/plain": [
              "'gmail.com'"
            ],
            "application/vnd.google.colaboratory.intrinsic+json": {
              "type": "string"
            }
          },
          "metadata": {},
          "execution_count": 34
        }
      ]
    },
    {
      "cell_type": "code",
      "source": [
        "a='user@domain.com'"
      ],
      "metadata": {
        "id": "4YO4cpZhU71x"
      },
      "execution_count": 35,
      "outputs": []
    },
    {
      "cell_type": "code",
      "source": [
        "#Q7Create a basic function that returns True if the word ‘dog’ is contained in the input string. Don’t worry about edge cases like a punctuation being attached to the word dog, but do account for capitalization"
      ],
      "metadata": {
        "id": "oQ5lzLq3U7yu"
      },
      "execution_count": null,
      "outputs": []
    },
    {
      "cell_type": "code",
      "source": [
        "def findDog(s):\n",
        "  if 'dog' in s:\n",
        "    print('True')\n",
        "  else:\n",
        "    print('False')"
      ],
      "metadata": {
        "id": "oF9B3a40U7v0"
      },
      "execution_count": 41,
      "outputs": []
    },
    {
      "cell_type": "code",
      "source": [
        "findDog('I love my dog')"
      ],
      "metadata": {
        "colab": {
          "base_uri": "https://localhost:8080/"
        },
        "id": "sysZeeUqU7sg",
        "outputId": "12d85cc6-05d2-4f54-817b-32752d595c8f"
      },
      "execution_count": 42,
      "outputs": [
        {
          "output_type": "stream",
          "name": "stdout",
          "text": [
            "True\n"
          ]
        }
      ]
    },
    {
      "cell_type": "code",
      "source": [
        "findDog(\"i love my DOG\")"
      ],
      "metadata": {
        "colab": {
          "base_uri": "https://localhost:8080/"
        },
        "id": "IxdpaNZejSbx",
        "outputId": "ff5683e8-9284-48bb-ed56-3099a8084ea4"
      },
      "execution_count": 43,
      "outputs": [
        {
          "output_type": "stream",
          "name": "stdout",
          "text": [
            "False\n"
          ]
        }
      ]
    },
    {
      "cell_type": "code",
      "source": [
        "def findDog(st):\n",
        "    return 'dog' in st.lower().split()"
      ],
      "metadata": {
        "id": "HZRMh-udU7pF"
      },
      "execution_count": 39,
      "outputs": []
    },
    {
      "cell_type": "code",
      "source": [
        "findDog(\"My dog is my favourite\")"
      ],
      "metadata": {
        "colab": {
          "base_uri": "https://localhost:8080/"
        },
        "id": "mqQ0p2SuU7li",
        "outputId": "06bdb8e0-bd54-49c8-f275-3f93f1e90fd8"
      },
      "execution_count": 40,
      "outputs": [
        {
          "output_type": "execute_result",
          "data": {
            "text/plain": [
              "True"
            ]
          },
          "metadata": {},
          "execution_count": 40
        }
      ]
    },
    {
      "cell_type": "code",
      "source": [
        "'DoG'.lower() in 'this is my dog'"
      ],
      "metadata": {
        "colab": {
          "base_uri": "https://localhost:8080/"
        },
        "id": "3YQR3sXqU7im",
        "outputId": "9c810eb7-def7-4cf7-cb78-c702285914e7"
      },
      "execution_count": 44,
      "outputs": [
        {
          "output_type": "execute_result",
          "data": {
            "text/plain": [
              "True"
            ]
          },
          "metadata": {},
          "execution_count": 44
        }
      ]
    },
    {
      "cell_type": "code",
      "source": [
        "def find_dog(s):\n",
        "    return 'dog' in s.lower().split()"
      ],
      "metadata": {
        "id": "mmT1NeIRU7fs"
      },
      "execution_count": 45,
      "outputs": []
    },
    {
      "cell_type": "code",
      "source": [
        "findDog(\"My DOG is my favourite\")"
      ],
      "metadata": {
        "colab": {
          "base_uri": "https://localhost:8080/"
        },
        "id": "7PFwUtZJU7c-",
        "outputId": "c759759f-3ae4-4abd-88e4-a4a42179ee76"
      },
      "execution_count": 47,
      "outputs": [
        {
          "output_type": "stream",
          "name": "stdout",
          "text": [
            "False\n"
          ]
        }
      ]
    },
    {
      "cell_type": "code",
      "source": [
        "#Q8 Create a function that counts the number of times the word \"dog\" occurs in a string. Again ignore edge cases."
      ],
      "metadata": {
        "id": "gUFX-t-iU7Z2"
      },
      "execution_count": null,
      "outputs": []
    },
    {
      "cell_type": "code",
      "source": [
        "def count_dog(s):\n",
        "  count=0\n",
        "  for word in s.lower().split():\n",
        "      if word =='dog' :\n",
        "        count += 1\n",
        "      return count\n"
      ],
      "metadata": {
        "id": "ifcnkWE6U7XP"
      },
      "execution_count": 59,
      "outputs": []
    },
    {
      "cell_type": "code",
      "source": [
        "count_dog(\"my dog has much fur , also Anna's dog is too weak \")"
      ],
      "metadata": {
        "colab": {
          "base_uri": "https://localhost:8080/"
        },
        "id": "9TeI-9twU7Uo",
        "outputId": "36824f73-81cc-4299-d13a-0344c8c3670d"
      },
      "execution_count": 60,
      "outputs": [
        {
          "output_type": "execute_result",
          "data": {
            "text/plain": [
              "0"
            ]
          },
          "metadata": {},
          "execution_count": 60
        }
      ]
    },
    {
      "cell_type": "code",
      "source": [],
      "metadata": {
        "id": "V0nMmNbGU7SZ"
      },
      "execution_count": null,
      "outputs": []
    },
    {
      "cell_type": "code",
      "source": [],
      "metadata": {
        "id": "99wMdnCnU7LH"
      },
      "execution_count": null,
      "outputs": []
    },
    {
      "cell_type": "code",
      "source": [],
      "metadata": {
        "id": "uGUKrtXOU7IH"
      },
      "execution_count": null,
      "outputs": []
    },
    {
      "cell_type": "code",
      "source": [],
      "metadata": {
        "id": "O9A_oHngU7FS"
      },
      "execution_count": null,
      "outputs": []
    },
    {
      "cell_type": "code",
      "source": [],
      "metadata": {
        "id": "kdOA14xPU7Cz"
      },
      "execution_count": null,
      "outputs": []
    },
    {
      "cell_type": "code",
      "source": [],
      "metadata": {
        "id": "Sg7GVMldU681"
      },
      "execution_count": null,
      "outputs": []
    }
  ]
}